{
 "cells": [
  {
   "cell_type": "code",
   "execution_count": 2,
   "id": "2784451b",
   "metadata": {},
   "outputs": [],
   "source": [
    "# Navigate to appropriate directory\n",
    "import os\n",
    "while os.path.split(os.getcwd())[1] != \"merlin-optical-sar\":\n",
    "    os.chdir(\"..\")\n",
    "    if os.getcwd() == \"/\":\n",
    "        raise ValueError()\n",
    "\n",
    "import numpy as np\n",
    "import matplotlib.pyplot as plt\n",
    "\n",
    "import mvalab as mvalab"
   ]
  },
  {
   "cell_type": "code",
   "execution_count": null,
   "id": "0ff64c31",
   "metadata": {},
   "outputs": [],
   "source": []
  }
 ],
 "metadata": {
  "kernelspec": {
   "display_name": "Python 3 (ipykernel)",
   "language": "python",
   "name": "python3"
  },
  "language_info": {
   "codemirror_mode": {
    "name": "ipython",
    "version": 3
   },
   "file_extension": ".py",
   "mimetype": "text/x-python",
   "name": "python",
   "nbconvert_exporter": "python",
   "pygments_lexer": "ipython3",
   "version": "3.10.9"
  }
 },
 "nbformat": 4,
 "nbformat_minor": 5
}
